{
  "nbformat": 4,
  "nbformat_minor": 0,
  "metadata": {
    "colab": {
      "name": "Panadas 101.ipynb",
      "provenance": [],
      "collapsed_sections": [],
      "toc_visible": true,
      "authorship_tag": "ABX9TyPGF2af3P4XKjn1+uTaaFFQ",
      "include_colab_link": true
    },
    "kernelspec": {
      "name": "python3",
      "display_name": "Python 3"
    }
  },
  "cells": [
    {
      "cell_type": "markdown",
      "metadata": {
        "id": "view-in-github",
        "colab_type": "text"
      },
      "source": [
        "<a href=\"https://colab.research.google.com/github/Dardeery/DataScience_Course/blob/main/curriculum/python_essentials/Panadas.ipynb\" target=\"_parent\"><img src=\"https://colab.research.google.com/assets/colab-badge.svg\" alt=\"Open In Colab\"/></a>"
      ]
    },
    {
      "cell_type": "markdown",
      "metadata": {
        "id": "ZDDgslFDbbu4"
      },
      "source": [
        "**PANDAS FOR PYTHON**"
      ]
    },
    {
      "cell_type": "markdown",
      "metadata": {
        "id": "zNAnvZdgTO2O"
      },
      "source": [
        "[insert photo] from missy data into : \r\n",
        "  \r\n",
        "\r\n",
        "*   basic viz\r\n",
        "*   data reading, understanding\r\n",
        "*   data cleaning\r\n",
        "\r\n"
      ]
    },
    {
      "cell_type": "code",
      "metadata": {
        "id": "73VZhs9WdRRV"
      },
      "source": [
        "# load pandas library\r\n",
        "import pandas as pd"
      ],
      "execution_count": null,
      "outputs": []
    },
    {
      "cell_type": "markdown",
      "metadata": {
        "id": "2U9j5TQLWJyM"
      },
      "source": [
        "# 1. Reading and Understanding Data"
      ]
    },
    {
      "cell_type": "markdown",
      "metadata": {
        "id": "B_grd3OUX5xX"
      },
      "source": [
        "#### 1.1. data reading\r\n",
        "\r\n",
        "You could read data files from various formats (excel,json,csv,html,etc)\r\n",
        "by `.read_\"file-type\"()`, where `file-type` indicates the type of the file to read.\r\n",
        "\r\n",
        "\r\n",
        "\r\n",
        "\r\n",
        "```\r\n",
        "pd.read_excel()\r\n",
        "pd.read_csv()\r\n",
        "pd.read_json()\r\n",
        "read_html()\r\n",
        "read_sql()\r\n",
        "```\r\n",
        "\r\n",
        "\r\n",
        "\r\n"
      ]
    },
    {
      "cell_type": "code",
      "metadata": {
        "id": "Z1VIr6WHdGsm"
      },
      "source": [
        "#read csv data file\r\n",
        "data=pd.read_csv(\"/content/sample_data/california_housing_test.csv\")"
      ],
      "execution_count": null,
      "outputs": []
    },
    {
      "cell_type": "markdown",
      "metadata": {
        "id": "NfC6YtI8aC1i"
      },
      "source": [
        "#### 1.2. data understanding\r\n",
        "\r\n",
        "\r\n"
      ]
    },
    {
      "cell_type": "markdown",
      "metadata": {
        "id": "SHM7X4ZUmpQL"
      },
      "source": [
        "###### 1.2.1.  navigate data\r\n",
        "\r\n",
        "view the data by printing it out, see the [top, bottom or sample] values of the data set\r\n",
        "```\r\n",
        "df.head() \r\n",
        "df.tail()\r\n",
        "df.sample()\r\n",
        "```"
      ]
    },
    {
      "cell_type": "code",
      "metadata": {
        "colab": {
          "base_uri": "https://localhost:8080/",
          "height": 219
        },
        "id": "-t3hsuWibf71",
        "outputId": "64ae691b-219e-45e3-d322-5ccd7b695007"
      },
      "source": [
        "#View data \r\n",
        "data.head() #show data headers "
      ],
      "execution_count": null,
      "outputs": [
        {
          "output_type": "execute_result",
          "data": {
            "text/html": [
              "<div>\n",
              "<style scoped>\n",
              "    .dataframe tbody tr th:only-of-type {\n",
              "        vertical-align: middle;\n",
              "    }\n",
              "\n",
              "    .dataframe tbody tr th {\n",
              "        vertical-align: top;\n",
              "    }\n",
              "\n",
              "    .dataframe thead th {\n",
              "        text-align: right;\n",
              "    }\n",
              "</style>\n",
              "<table border=\"1\" class=\"dataframe\">\n",
              "  <thead>\n",
              "    <tr style=\"text-align: right;\">\n",
              "      <th></th>\n",
              "      <th>longitude</th>\n",
              "      <th>latitude</th>\n",
              "      <th>housing_median_age</th>\n",
              "      <th>total_rooms</th>\n",
              "      <th>total_bedrooms</th>\n",
              "      <th>population</th>\n",
              "      <th>households</th>\n",
              "      <th>median_income</th>\n",
              "      <th>median_house_value</th>\n",
              "    </tr>\n",
              "  </thead>\n",
              "  <tbody>\n",
              "    <tr>\n",
              "      <th>0</th>\n",
              "      <td>-122.05</td>\n",
              "      <td>37.37</td>\n",
              "      <td>27.0</td>\n",
              "      <td>3885.0</td>\n",
              "      <td>661.0</td>\n",
              "      <td>1537.0</td>\n",
              "      <td>606.0</td>\n",
              "      <td>6.6085</td>\n",
              "      <td>344700.0</td>\n",
              "    </tr>\n",
              "    <tr>\n",
              "      <th>1</th>\n",
              "      <td>-118.30</td>\n",
              "      <td>34.26</td>\n",
              "      <td>43.0</td>\n",
              "      <td>1510.0</td>\n",
              "      <td>310.0</td>\n",
              "      <td>809.0</td>\n",
              "      <td>277.0</td>\n",
              "      <td>3.5990</td>\n",
              "      <td>176500.0</td>\n",
              "    </tr>\n",
              "    <tr>\n",
              "      <th>2</th>\n",
              "      <td>-117.81</td>\n",
              "      <td>33.78</td>\n",
              "      <td>27.0</td>\n",
              "      <td>3589.0</td>\n",
              "      <td>507.0</td>\n",
              "      <td>1484.0</td>\n",
              "      <td>495.0</td>\n",
              "      <td>5.7934</td>\n",
              "      <td>270500.0</td>\n",
              "    </tr>\n",
              "    <tr>\n",
              "      <th>3</th>\n",
              "      <td>-118.36</td>\n",
              "      <td>33.82</td>\n",
              "      <td>28.0</td>\n",
              "      <td>67.0</td>\n",
              "      <td>15.0</td>\n",
              "      <td>49.0</td>\n",
              "      <td>11.0</td>\n",
              "      <td>6.1359</td>\n",
              "      <td>330000.0</td>\n",
              "    </tr>\n",
              "    <tr>\n",
              "      <th>4</th>\n",
              "      <td>-119.67</td>\n",
              "      <td>36.33</td>\n",
              "      <td>19.0</td>\n",
              "      <td>1241.0</td>\n",
              "      <td>244.0</td>\n",
              "      <td>850.0</td>\n",
              "      <td>237.0</td>\n",
              "      <td>2.9375</td>\n",
              "      <td>81700.0</td>\n",
              "    </tr>\n",
              "  </tbody>\n",
              "</table>\n",
              "</div>"
            ],
            "text/plain": [
              "   longitude  latitude  ...  median_income  median_house_value\n",
              "0    -122.05     37.37  ...         6.6085            344700.0\n",
              "1    -118.30     34.26  ...         3.5990            176500.0\n",
              "2    -117.81     33.78  ...         5.7934            270500.0\n",
              "3    -118.36     33.82  ...         6.1359            330000.0\n",
              "4    -119.67     36.33  ...         2.9375             81700.0\n",
              "\n",
              "[5 rows x 9 columns]"
            ]
          },
          "metadata": {
            "tags": []
          },
          "execution_count": 18
        }
      ]
    },
    {
      "cell_type": "markdown",
      "metadata": {
        "id": "OivuBhZrmS0O"
      },
      "source": [
        "\r\n",
        "##### 1.2.2. data shape\r\n",
        "```\r\n",
        "df.shape\r\n",
        "df.describe()\r\n",
        "```\r\n",
        "\r\n",
        "\r\n"
      ]
    },
    {
      "cell_type": "code",
      "metadata": {
        "colab": {
          "base_uri": "https://localhost:8080/"
        },
        "id": "J4vFVvr1cuWT",
        "outputId": "e11678ed-9ec7-47c4-a863-0ff0f523d44b"
      },
      "source": [
        "#View data \r\n",
        "data.shape   # how many rows and columns "
      ],
      "execution_count": null,
      "outputs": [
        {
          "output_type": "execute_result",
          "data": {
            "text/plain": [
              "(3000, 9)"
            ]
          },
          "metadata": {
            "tags": []
          },
          "execution_count": 14
        }
      ]
    },
    {
      "cell_type": "code",
      "metadata": {
        "colab": {
          "base_uri": "https://localhost:8080/",
          "height": 310
        },
        "id": "uZ63eSd4dS22",
        "outputId": "cc543b7d-c70c-49ae-a274-36e2fd895b6f"
      },
      "source": [
        "#View data \r\n",
        "data.describe() # show Statistical dispersion"
      ],
      "execution_count": null,
      "outputs": [
        {
          "output_type": "execute_result",
          "data": {
            "text/html": [
              "<div>\n",
              "<style scoped>\n",
              "    .dataframe tbody tr th:only-of-type {\n",
              "        vertical-align: middle;\n",
              "    }\n",
              "\n",
              "    .dataframe tbody tr th {\n",
              "        vertical-align: top;\n",
              "    }\n",
              "\n",
              "    .dataframe thead th {\n",
              "        text-align: right;\n",
              "    }\n",
              "</style>\n",
              "<table border=\"1\" class=\"dataframe\">\n",
              "  <thead>\n",
              "    <tr style=\"text-align: right;\">\n",
              "      <th></th>\n",
              "      <th>longitude</th>\n",
              "      <th>latitude</th>\n",
              "      <th>housing_median_age</th>\n",
              "      <th>total_rooms</th>\n",
              "      <th>total_bedrooms</th>\n",
              "      <th>population</th>\n",
              "      <th>households</th>\n",
              "      <th>median_income</th>\n",
              "      <th>median_house_value</th>\n",
              "    </tr>\n",
              "  </thead>\n",
              "  <tbody>\n",
              "    <tr>\n",
              "      <th>count</th>\n",
              "      <td>3000.000000</td>\n",
              "      <td>3000.00000</td>\n",
              "      <td>3000.000000</td>\n",
              "      <td>3000.000000</td>\n",
              "      <td>3000.000000</td>\n",
              "      <td>3000.000000</td>\n",
              "      <td>3000.00000</td>\n",
              "      <td>3000.000000</td>\n",
              "      <td>3000.00000</td>\n",
              "    </tr>\n",
              "    <tr>\n",
              "      <th>mean</th>\n",
              "      <td>-119.589200</td>\n",
              "      <td>35.63539</td>\n",
              "      <td>28.845333</td>\n",
              "      <td>2599.578667</td>\n",
              "      <td>529.950667</td>\n",
              "      <td>1402.798667</td>\n",
              "      <td>489.91200</td>\n",
              "      <td>3.807272</td>\n",
              "      <td>205846.27500</td>\n",
              "    </tr>\n",
              "    <tr>\n",
              "      <th>std</th>\n",
              "      <td>1.994936</td>\n",
              "      <td>2.12967</td>\n",
              "      <td>12.555396</td>\n",
              "      <td>2155.593332</td>\n",
              "      <td>415.654368</td>\n",
              "      <td>1030.543012</td>\n",
              "      <td>365.42271</td>\n",
              "      <td>1.854512</td>\n",
              "      <td>113119.68747</td>\n",
              "    </tr>\n",
              "    <tr>\n",
              "      <th>min</th>\n",
              "      <td>-124.180000</td>\n",
              "      <td>32.56000</td>\n",
              "      <td>1.000000</td>\n",
              "      <td>6.000000</td>\n",
              "      <td>2.000000</td>\n",
              "      <td>5.000000</td>\n",
              "      <td>2.00000</td>\n",
              "      <td>0.499900</td>\n",
              "      <td>22500.00000</td>\n",
              "    </tr>\n",
              "    <tr>\n",
              "      <th>25%</th>\n",
              "      <td>-121.810000</td>\n",
              "      <td>33.93000</td>\n",
              "      <td>18.000000</td>\n",
              "      <td>1401.000000</td>\n",
              "      <td>291.000000</td>\n",
              "      <td>780.000000</td>\n",
              "      <td>273.00000</td>\n",
              "      <td>2.544000</td>\n",
              "      <td>121200.00000</td>\n",
              "    </tr>\n",
              "    <tr>\n",
              "      <th>50%</th>\n",
              "      <td>-118.485000</td>\n",
              "      <td>34.27000</td>\n",
              "      <td>29.000000</td>\n",
              "      <td>2106.000000</td>\n",
              "      <td>437.000000</td>\n",
              "      <td>1155.000000</td>\n",
              "      <td>409.50000</td>\n",
              "      <td>3.487150</td>\n",
              "      <td>177650.00000</td>\n",
              "    </tr>\n",
              "    <tr>\n",
              "      <th>75%</th>\n",
              "      <td>-118.020000</td>\n",
              "      <td>37.69000</td>\n",
              "      <td>37.000000</td>\n",
              "      <td>3129.000000</td>\n",
              "      <td>636.000000</td>\n",
              "      <td>1742.750000</td>\n",
              "      <td>597.25000</td>\n",
              "      <td>4.656475</td>\n",
              "      <td>263975.00000</td>\n",
              "    </tr>\n",
              "    <tr>\n",
              "      <th>max</th>\n",
              "      <td>-114.490000</td>\n",
              "      <td>41.92000</td>\n",
              "      <td>52.000000</td>\n",
              "      <td>30450.000000</td>\n",
              "      <td>5419.000000</td>\n",
              "      <td>11935.000000</td>\n",
              "      <td>4930.00000</td>\n",
              "      <td>15.000100</td>\n",
              "      <td>500001.00000</td>\n",
              "    </tr>\n",
              "  </tbody>\n",
              "</table>\n",
              "</div>"
            ],
            "text/plain": [
              "         longitude    latitude  ...  median_income  median_house_value\n",
              "count  3000.000000  3000.00000  ...    3000.000000          3000.00000\n",
              "mean   -119.589200    35.63539  ...       3.807272        205846.27500\n",
              "std       1.994936     2.12967  ...       1.854512        113119.68747\n",
              "min    -124.180000    32.56000  ...       0.499900         22500.00000\n",
              "25%    -121.810000    33.93000  ...       2.544000        121200.00000\n",
              "50%    -118.485000    34.27000  ...       3.487150        177650.00000\n",
              "75%    -118.020000    37.69000  ...       4.656475        263975.00000\n",
              "max    -114.490000    41.92000  ...      15.000100        500001.00000\n",
              "\n",
              "[8 rows x 9 columns]"
            ]
          },
          "metadata": {
            "tags": []
          },
          "execution_count": 17
        }
      ]
    },
    {
      "cell_type": "markdown",
      "metadata": {
        "id": "S0ocsetzmXMm"
      },
      "source": [
        "\r\n",
        "##### 1.2.3. data distribution\r\n",
        "\r\n",
        "\r\n",
        "```\r\n",
        "#count number of values \r\n",
        "df.value_counts()\r\n",
        "\r\n",
        "#number of values groupped \r\n",
        "df.groupby(df.column).count()\r\n",
        "\r\n",
        "#number of unique\r\n",
        "df.column.nunique \r\n",
        "```\r\n",
        "\r\n"
      ]
    },
    {
      "cell_type": "markdown",
      "metadata": {
        "id": "_R7A5_jxWP8H"
      },
      "source": [
        "# 2. Data Cleaning"
      ]
    },
    {
      "cell_type": "markdown",
      "metadata": {
        "id": "0OHG5lKEbBp4"
      },
      "source": [
        "#### 2.1. Navigate the data\r\n",
        "\r\n",
        "\r\n",
        "```\r\n",
        "df.loc[]\r\n",
        "df.iloc[]\r\n",
        "\r\n",
        "```"
      ]
    },
    {
      "cell_type": "markdown",
      "metadata": {
        "id": "WEd82-kgoAP7"
      },
      "source": [
        "#### 2.2. handle missing data\r\n",
        "\r\n",
        "```\r\n",
        "df.dropna()\r\n",
        "df.fillna()\r\n",
        "```\r\n",
        "\r\n"
      ]
    },
    {
      "cell_type": "code",
      "metadata": {
        "colab": {
          "base_uri": "https://localhost:8080/",
          "height": 430
        },
        "id": "gfy9xRMdqNTf",
        "outputId": "596c38fc-2487-44b3-89b3-107c81666f1c"
      },
      "source": [
        "data.dropna()"
      ],
      "execution_count": null,
      "outputs": [
        {
          "output_type": "execute_result",
          "data": {
            "text/html": [
              "<div>\n",
              "<style scoped>\n",
              "    .dataframe tbody tr th:only-of-type {\n",
              "        vertical-align: middle;\n",
              "    }\n",
              "\n",
              "    .dataframe tbody tr th {\n",
              "        vertical-align: top;\n",
              "    }\n",
              "\n",
              "    .dataframe thead th {\n",
              "        text-align: right;\n",
              "    }\n",
              "</style>\n",
              "<table border=\"1\" class=\"dataframe\">\n",
              "  <thead>\n",
              "    <tr style=\"text-align: right;\">\n",
              "      <th></th>\n",
              "      <th>longitude</th>\n",
              "      <th>latitude</th>\n",
              "      <th>housing_median_age</th>\n",
              "      <th>total_rooms</th>\n",
              "      <th>total_bedrooms</th>\n",
              "      <th>population</th>\n",
              "      <th>households</th>\n",
              "      <th>median_income</th>\n",
              "      <th>median_house_value</th>\n",
              "    </tr>\n",
              "  </thead>\n",
              "  <tbody>\n",
              "    <tr>\n",
              "      <th>0</th>\n",
              "      <td>-122.05</td>\n",
              "      <td>37.37</td>\n",
              "      <td>27.0</td>\n",
              "      <td>3885.0</td>\n",
              "      <td>661.0</td>\n",
              "      <td>1537.0</td>\n",
              "      <td>606.0</td>\n",
              "      <td>6.6085</td>\n",
              "      <td>344700.0</td>\n",
              "    </tr>\n",
              "    <tr>\n",
              "      <th>1</th>\n",
              "      <td>-118.30</td>\n",
              "      <td>34.26</td>\n",
              "      <td>43.0</td>\n",
              "      <td>1510.0</td>\n",
              "      <td>310.0</td>\n",
              "      <td>809.0</td>\n",
              "      <td>277.0</td>\n",
              "      <td>3.5990</td>\n",
              "      <td>176500.0</td>\n",
              "    </tr>\n",
              "    <tr>\n",
              "      <th>2</th>\n",
              "      <td>-117.81</td>\n",
              "      <td>33.78</td>\n",
              "      <td>27.0</td>\n",
              "      <td>3589.0</td>\n",
              "      <td>507.0</td>\n",
              "      <td>1484.0</td>\n",
              "      <td>495.0</td>\n",
              "      <td>5.7934</td>\n",
              "      <td>270500.0</td>\n",
              "    </tr>\n",
              "    <tr>\n",
              "      <th>3</th>\n",
              "      <td>-118.36</td>\n",
              "      <td>33.82</td>\n",
              "      <td>28.0</td>\n",
              "      <td>67.0</td>\n",
              "      <td>15.0</td>\n",
              "      <td>49.0</td>\n",
              "      <td>11.0</td>\n",
              "      <td>6.1359</td>\n",
              "      <td>330000.0</td>\n",
              "    </tr>\n",
              "    <tr>\n",
              "      <th>4</th>\n",
              "      <td>-119.67</td>\n",
              "      <td>36.33</td>\n",
              "      <td>19.0</td>\n",
              "      <td>1241.0</td>\n",
              "      <td>244.0</td>\n",
              "      <td>850.0</td>\n",
              "      <td>237.0</td>\n",
              "      <td>2.9375</td>\n",
              "      <td>81700.0</td>\n",
              "    </tr>\n",
              "    <tr>\n",
              "      <th>...</th>\n",
              "      <td>...</td>\n",
              "      <td>...</td>\n",
              "      <td>...</td>\n",
              "      <td>...</td>\n",
              "      <td>...</td>\n",
              "      <td>...</td>\n",
              "      <td>...</td>\n",
              "      <td>...</td>\n",
              "      <td>...</td>\n",
              "    </tr>\n",
              "    <tr>\n",
              "      <th>2995</th>\n",
              "      <td>-119.86</td>\n",
              "      <td>34.42</td>\n",
              "      <td>23.0</td>\n",
              "      <td>1450.0</td>\n",
              "      <td>642.0</td>\n",
              "      <td>1258.0</td>\n",
              "      <td>607.0</td>\n",
              "      <td>1.1790</td>\n",
              "      <td>225000.0</td>\n",
              "    </tr>\n",
              "    <tr>\n",
              "      <th>2996</th>\n",
              "      <td>-118.14</td>\n",
              "      <td>34.06</td>\n",
              "      <td>27.0</td>\n",
              "      <td>5257.0</td>\n",
              "      <td>1082.0</td>\n",
              "      <td>3496.0</td>\n",
              "      <td>1036.0</td>\n",
              "      <td>3.3906</td>\n",
              "      <td>237200.0</td>\n",
              "    </tr>\n",
              "    <tr>\n",
              "      <th>2997</th>\n",
              "      <td>-119.70</td>\n",
              "      <td>36.30</td>\n",
              "      <td>10.0</td>\n",
              "      <td>956.0</td>\n",
              "      <td>201.0</td>\n",
              "      <td>693.0</td>\n",
              "      <td>220.0</td>\n",
              "      <td>2.2895</td>\n",
              "      <td>62000.0</td>\n",
              "    </tr>\n",
              "    <tr>\n",
              "      <th>2998</th>\n",
              "      <td>-117.12</td>\n",
              "      <td>34.10</td>\n",
              "      <td>40.0</td>\n",
              "      <td>96.0</td>\n",
              "      <td>14.0</td>\n",
              "      <td>46.0</td>\n",
              "      <td>14.0</td>\n",
              "      <td>3.2708</td>\n",
              "      <td>162500.0</td>\n",
              "    </tr>\n",
              "    <tr>\n",
              "      <th>2999</th>\n",
              "      <td>-119.63</td>\n",
              "      <td>34.42</td>\n",
              "      <td>42.0</td>\n",
              "      <td>1765.0</td>\n",
              "      <td>263.0</td>\n",
              "      <td>753.0</td>\n",
              "      <td>260.0</td>\n",
              "      <td>8.5608</td>\n",
              "      <td>500001.0</td>\n",
              "    </tr>\n",
              "  </tbody>\n",
              "</table>\n",
              "<p>3000 rows × 9 columns</p>\n",
              "</div>"
            ],
            "text/plain": [
              "      longitude  latitude  ...  median_income  median_house_value\n",
              "0       -122.05     37.37  ...         6.6085            344700.0\n",
              "1       -118.30     34.26  ...         3.5990            176500.0\n",
              "2       -117.81     33.78  ...         5.7934            270500.0\n",
              "3       -118.36     33.82  ...         6.1359            330000.0\n",
              "4       -119.67     36.33  ...         2.9375             81700.0\n",
              "...         ...       ...  ...            ...                 ...\n",
              "2995    -119.86     34.42  ...         1.1790            225000.0\n",
              "2996    -118.14     34.06  ...         3.3906            237200.0\n",
              "2997    -119.70     36.30  ...         2.2895             62000.0\n",
              "2998    -117.12     34.10  ...         3.2708            162500.0\n",
              "2999    -119.63     34.42  ...         8.5608            500001.0\n",
              "\n",
              "[3000 rows x 9 columns]"
            ]
          },
          "metadata": {
            "tags": []
          },
          "execution_count": 20
        }
      ]
    },
    {
      "cell_type": "markdown",
      "metadata": {
        "id": "yAAG8DZooDy6"
      },
      "source": [
        "#### 2.3. apply a rule on all/multiple columns \r\n",
        "\r\n",
        "```\r\n",
        "#lambada \r\n",
        "\r\n",
        "#apply(function)\r\n",
        "```\r\n",
        "\r\n",
        "\r\n"
      ]
    },
    {
      "cell_type": "markdown",
      "metadata": {
        "id": "fDCVzQVPoJC1"
      },
      "source": [
        "### 2.4. combine multiple datasets \r\n",
        "\r\n",
        "\r\n",
        "\r\n",
        "\r\n",
        "```\r\n",
        "pd.merge(df1,df2,\r\n",
        "         how='',\r\n",
        "         on='column')\r\n",
        "```\r\n",
        "\r\n",
        "\r\n",
        "\r\n",
        "![join-or-merge-in-python-pandas-1.png](data:image/png;base64,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)\r\n",
        "\r\n",
        "\r\n",
        "\r\n",
        "\r\n",
        "\r\n"
      ]
    },
    {
      "cell_type": "markdown",
      "metadata": {
        "id": "ndYuaNJEpB12"
      },
      "source": [
        ""
      ]
    },
    {
      "cell_type": "markdown",
      "metadata": {
        "id": "I45h7XucWT6m"
      },
      "source": [
        "# 3. Data Visualization"
      ]
    },
    {
      "cell_type": "markdown",
      "metadata": {
        "id": "cAOORzPvikN9"
      },
      "source": [
        "#### 3.1. plotting \r\n",
        "\r\n",
        "\r\n",
        "```\r\n",
        "# plotting histogram\r\n",
        "df.column.count().plot.hist()\r\n",
        "\r\n",
        "\r\n",
        "# plotting scatter\r\n",
        "df.column.plot.scatter(x=column_x,\r\n",
        "                       y=column_y)\r\n",
        "      \r\n",
        "```\r\n",
        "\r\n"
      ]
    },
    {
      "cell_type": "code",
      "metadata": {
        "colab": {
          "base_uri": "https://localhost:8080/",
          "height": 283
        },
        "id": "BQdwU3x0dtMn",
        "outputId": "4e25380b-5241-4149-e43b-0626811e1780"
      },
      "source": [
        "data.population.plot()"
      ],
      "execution_count": null,
      "outputs": [
        {
          "output_type": "execute_result",
          "data": {
            "text/plain": [
              "<matplotlib.axes._subplots.AxesSubplot at 0x7f8d18ebf5f8>"
            ]
          },
          "metadata": {
            "tags": []
          },
          "execution_count": 23
        },
        {
          "output_type": "display_data",
          "data": {
            "image/png": "[encoded data removed]",
            "text/plain": [
              "<Figure size 432x288 with 1 Axes>"
            ]
          },
          "metadata": {
            "tags": [],
            "needs_background": "light"
          }
        }
      ]
    },
    {
      "cell_type": "markdown",
      "metadata": {
        "id": "skujGpSAc_WR"
      },
      "source": [
        "Example 2 (time series data) "
      ]
    },
    {
      "cell_type": "code",
      "metadata": {
        "id": "eHGWqzcQc4jX"
      },
      "source": [
        "ex"
      ],
      "execution_count": null,
      "outputs": []
    }
  ]
}